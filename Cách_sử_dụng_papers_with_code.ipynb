{
  "nbformat": 4,
  "nbformat_minor": 0,
  "metadata": {
    "colab": {
      "name": "Cách sử dụng papers with code",
      "provenance": [],
      "toc_visible": true,
      "authorship_tag": "ABX9TyOzu/sJk1F9VPVIEQyMP4i4",
      "include_colab_link": true
    },
    "kernelspec": {
      "name": "python3",
      "display_name": "Python 3"
    },
    "language_info": {
      "name": "python"
    }
  },
  "cells": [
    {
      "cell_type": "markdown",
      "metadata": {
        "id": "view-in-github",
        "colab_type": "text"
      },
      "source": [
        "<a href=\"https://colab.research.google.com/github/18521509/CS519.L21.KHTN/blob/main/C%C3%A1ch_s%E1%BB%AD_d%E1%BB%A5ng_papers_with_code.ipynb\" target=\"_parent\"><img src=\"https://colab.research.google.com/assets/colab-badge.svg\" alt=\"Open In Colab\"/></a>"
      ]
    },
    {
      "cell_type": "markdown",
      "metadata": {
        "id": "GYfkqNHxHYXy"
      },
      "source": [
        "#1 Giới thiệu tổng quan Paperswithcode "
      ]
    },
    {
      "cell_type": "markdown",
      "metadata": {
        "id": "0rwTQDYsGnhY"
      },
      "source": [
        "Paperswithcode.com là trang web cung cấp các bài báo khoa học và source code được sử dụng chạy thực nghiệm trong bài báo đó (bao gồm code của tác giả và cộng đồng đóng góp) trong lĩnh vực khoa học máy tính. Ngoài ra trang web còn cung cấp thêm các bộ dataset.\n",
        "\n",
        "\n"
      ]
    },
    {
      "cell_type": "markdown",
      "metadata": {
        "id": "oR68so6tHV9J"
      },
      "source": [
        "## Giới thiệu tổng quan trang web\n",
        "\n",
        "Trang chủ của trang web bao gồm:\n",
        "- Mục tìm kiếm: để tìm theo tên bài báo\n",
        "- Đăng nhập thông qua tài khoản paperswithcode, slack, twitter.\n",
        "- Các bài báo nổi bật.\n",
        "\n",
        "[![image.png](https://i.postimg.cc/P57YfKtP/image.png)](https://postimg.cc/87hjtRfS)"
      ]
    },
    {
      "cell_type": "markdown",
      "metadata": {
        "id": "TSmDwfqyJXyy"
      },
      "source": [
        "#2 Cách tìm kiếm source code của một bài báo khoa học\n",
        "- Nhập tên bài báo vào mục tìm kiếm\n",
        "[![image.png](https://i.postimg.cc/K89S1kVK/image.png)](https://postimg.cc/cv85jHdZ)"
      ]
    },
    {
      "cell_type": "markdown",
      "metadata": {
        "id": "D48qPuj2KJ6B"
      },
      "source": [
        "- Đối với mỗi bài báo tương ứng gồm 3 phần:\n",
        "    - Phần 1: Tên bài báo, click vào sẽ hiển thị thông tin của bài báo.\n",
        "    - Phần 2: [Paper] Click vào sẽ dẫn tới bài báo.\n",
        "    - Phần 3: [Github] Dẫn tới source code của bài báo. \n",
        "\n",
        "[![image.png](https://i.postimg.cc/SRpg7vqN/image.png)](https://postimg.cc/tZ2d9DYL)\n",
        "\n",
        "\n",
        "\n",
        "\n"
      ]
    },
    {
      "cell_type": "markdown",
      "metadata": {
        "id": "EaBzTRXed-5e"
      },
      "source": [
        "#3 Thông tin chi tiết của một bài báo.\n"
      ]
    },
    {
      "cell_type": "markdown",
      "metadata": {
        "id": "aAWrGI6DeH-5"
      },
      "source": [
        "Khi chọn một bài báo cụ thể sẽ đưa đến trang web bao gồm các phần\n",
        "\n",
        "    - *PDF* Đưa tới bài báo\n",
        "    - Code: Các github tới source code của tác giả hoặc người đóng góp, được sắp xếp theo đánh giá.\n",
        "    - Dataset: Cung cấp dataset được sử dụng trong bài báo\n",
        "    - Result from Paper: Kết quả chạy thực nghiệm của bài báo\n",
        "    - Methods: các phương pháp được sử dụng trong bài báo. \n",
        "[![image.png](https://i.postimg.cc/j25L9sR8/image.png)](https://postimg.cc/FdMrkXdc)\n"
      ]
    }
  ]
}